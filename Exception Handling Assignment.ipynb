{
 "cells": [
  {
   "cell_type": "code",
   "execution_count": 3,
   "id": "d771962d",
   "metadata": {},
   "outputs": [],
   "source": [
    "def divisionerror(x,y):\n",
    "    try:\n",
    "        c=x//y\n",
    "        print(\"all good\")\n",
    "    except ZeroDivisionError as e:\n",
    "        print(\"integer cannot be divisible by 0\")"
   ]
  },
  {
   "cell_type": "code",
   "execution_count": 4,
   "id": "c372b267",
   "metadata": {},
   "outputs": [
    {
     "name": "stdout",
     "output_type": "stream",
     "text": [
      "integer cannot be divisible by 0\n"
     ]
    }
   ],
   "source": [
    "divisionerror(5,0)"
   ]
  },
  {
   "cell_type": "code",
   "execution_count": 5,
   "id": "68d49a57",
   "metadata": {},
   "outputs": [
    {
     "name": "stdout",
     "output_type": "stream",
     "text": [
      "Americans plays basketball\n",
      "Americans plays cricket\n",
      "Americans watch basketball\n",
      "Americans watch cricket\n",
      "Indian plays basketball\n",
      "Indian plays cricket\n",
      "Indian watch basketball\n",
      "Indian watch cricket\n"
     ]
    }
   ],
   "source": [
    "subjects=[\"Americans\",\"Indian\"]\n",
    "verbs=[\"plays\",\"watch\"]\n",
    "objects=[\"basketball\",\"cricket\"]\n",
    "\n",
    "for sub in subjects:\n",
    "    for verb in verbs:\n",
    "        for obj in objects:\n",
    "            p=[sub+\" \"+verb+\" \"+obj]\n",
    "            for x in p:\n",
    "                print(x)"
   ]
  },
  {
   "cell_type": "code",
   "execution_count": null,
   "id": "22f419e1",
   "metadata": {},
   "outputs": [],
   "source": []
  }
 ],
 "metadata": {
  "kernelspec": {
   "display_name": "Python 3",
   "language": "python",
   "name": "python3"
  },
  "language_info": {
   "codemirror_mode": {
    "name": "ipython",
    "version": 3
   },
   "file_extension": ".py",
   "mimetype": "text/x-python",
   "name": "python",
   "nbconvert_exporter": "python",
   "pygments_lexer": "ipython3",
   "version": "3.8.8"
  }
 },
 "nbformat": 4,
 "nbformat_minor": 5
}
